{
  "nbformat": 4,
  "nbformat_minor": 0,
  "metadata": {
    "colab": {
      "provenance": []
    },
    "kernelspec": {
      "name": "python3",
      "display_name": "Python 3"
    },
    "language_info": {
      "name": "python"
    }
  },
  "cells": [
    {
      "cell_type": "code",
      "source": [
        "import numpy as np\n",
        "import matplotlib.pyplot as plt\n",
        "from sklearn.model_selection import train_test_split\n",
        "from sklearn.datasets import load_iris"
      ],
      "metadata": {
        "id": "ZujvWaIVshYY"
      },
      "execution_count": 7,
      "outputs": []
    },
    {
      "cell_type": "code",
      "source": [
        "class LDA:\n",
        "  def __init__(self,n_components=None):\n",
        "    self.n_components = n_components\n",
        "    self.eig_vectors = None\n",
        "  def transform(self,X,Y):\n",
        "    h,w=X.shape\n",
        "    uni_classes=np.unique(Y)\n",
        "    num_classes = len(uni_classes)\n",
        "    scatter_t = np.cov(X.T)*(h-1)\n",
        "    scatter_w=0\n",
        "    for i in range(num_classes):\n",
        "      class_item=np.flatnonzero(Y == uni_classes[i])\n",
        "      scatter_w=scatter_w+np.cov(X[class_item].T)*(len(class_item)-1)\n",
        "    scatter_b = scatter_t-scatter_w\n",
        "    _, eig_vectors = np.linalg.eigh(np.linalg.pinv(scatter_w).dot(scatter_b))\n",
        "    print(eig_vectors.shape)\n",
        "    pc = X.dot(eig_vectors[:,::-1][:,:self.n_components])\n",
        "    print(pc.shape)\n",
        "    if self.n_components ==2:\n",
        "      if y is None:\n",
        "        plt.scatter(pc[:,0],pc[:,1])\n",
        "      else:\n",
        "        colors = ['r','g','b']\n",
        "        labels = np.unique(y)\n",
        "        for color,label in zip(colors,labels):\n",
        "          class_data = pc[np.flatnonzero(Y==label)]\n",
        "          plt.scatter(class_data[:,0],class_data[:,1],c=color)\n",
        "        plt.show()\n",
        "      return pc"
      ],
      "metadata": {
        "id": "r8VfQ9qas7Ux"
      },
      "execution_count": 8,
      "outputs": []
    },
    {
      "cell_type": "code",
      "source": [
        "LDA_obj = LDA(n_components=2)\n",
        "data = load_iris()\n",
        "X, y = data.data, data.target\n",
        "X_train, X_test, Y_train, Y_test = train_test_split(X, y, test_size=0.2)\n",
        "\n",
        "LDA_object = LDA(n_components=2)\n",
        "X_train_modified = LDA_object.transform(X_train, Y_train)\n",
        "\n",
        "print(\"Original Data Size:\",X_train.shape, \"\\nModified Data Size:\", X_train_modified.shape)\n"
      ],
      "metadata": {
        "colab": {
          "base_uri": "https://localhost:8080/",
          "height": 334
        },
        "id": "CkljEqTzxEGx",
        "outputId": "853f14b3-d1ba-4503-a6aa-5a77cc86d427"
      },
      "execution_count": 9,
      "outputs": [
        {
          "output_type": "stream",
          "name": "stdout",
          "text": [
            "(4, 4)\n",
            "(120, 2)\n"
          ]
        },
        {
          "output_type": "display_data",
          "data": {
            "text/plain": [
              "<Figure size 432x288 with 1 Axes>"
            ],
            "image/png": "[encoded data removed]"
          },
          "metadata": {
            "needs_background": "light"
          }
        },
        {
          "output_type": "stream",
          "name": "stdout",
          "text": [
            "Original Data Size: (120, 4) \n",
            "Modified Data Size: (120, 2)\n"
          ]
        }
      ]
    }
  ]
}